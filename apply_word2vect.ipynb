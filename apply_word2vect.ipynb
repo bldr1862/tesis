{
 "cells": [
  {
   "cell_type": "code",
   "execution_count": 24,
   "metadata": {
    "collapsed": true
   },
   "outputs": [],
   "source": [
    "import utils\n",
    "import params\n",
    "import numpy as np\n",
    "\n",
    "from tqdm import tqdm"
   ]
  },
  {
   "cell_type": "code",
   "execution_count": 2,
   "metadata": {
    "collapsed": true
   },
   "outputs": [],
   "source": [
    "import io\n",
    "\n",
    "def load_vectors(fname):\n",
    "    fin = io.open(fname, 'r', encoding='utf-8', newline='\\n', errors='ignore')\n",
    "    #n, d = map(int, fin.readline().split())\n",
    "    data = {}\n",
    "    for line in fin:\n",
    "        tokens = line.rstrip().split(' ')\n",
    "        data[tokens[0]] = [float(x) for x in tokens[1:]]\n",
    "    return data"
   ]
  },
  {
   "cell_type": "code",
   "execution_count": 3,
   "metadata": {
    "collapsed": true
   },
   "outputs": [],
   "source": [
    "fname = 'MODEL/wiki-news-300d-1M.vec'\n",
    "vectors = load_vectors(fname)"
   ]
  },
  {
   "cell_type": "code",
   "execution_count": 92,
   "metadata": {
    "collapsed": true
   },
   "outputs": [],
   "source": [
    "def AGG_CAPTIONS(captions):\n",
    "    from collections import defaultdict\n",
    "    recaptions = defaultdict(list)\n",
    "    for caption in captions:\n",
    "        name = caption.get('image_id')\n",
    "        des = caption.get('caption').lower()       \n",
    "        recaptions[name].append(des)\n",
    "    return recaptions"
   ]
  },
  {
   "cell_type": "code",
   "execution_count": 19,
   "metadata": {
    "collapsed": true
   },
   "outputs": [],
   "source": [
    "def reCaption(captions):\n",
    "    from collections import defaultdict\n",
    "    from sklearn.feature_extraction.text import CountVectorizer\n",
    "    from nltk.corpus import stopwords\n",
    "    recaptions = defaultdict(list)\n",
    "    stop_words = set (stopwords.words( 'english' ))\n",
    "    unigram_vectorizer = CountVectorizer()\n",
    "    analyze = unigram_vectorizer.build_analyzer()\n",
    "\n",
    "    for caption in captions:\n",
    "        name = caption.get('image_id')\n",
    "        des = caption.get('caption').lower()\n",
    "\n",
    "        #remove stopwords\n",
    "        des_stemmed = []\n",
    "        for word in analyze(des):\n",
    "            if word not in stop_words:\n",
    "                des_stemmed.append(word)\n",
    "        des_stemmed = ' '.join(des_stemmed)\n",
    "        \n",
    "        recaptions[name].append(des_stemmed)\n",
    "    return recaptions"
   ]
  },
  {
   "cell_type": "code",
   "execution_count": 112,
   "metadata": {
    "collapsed": true
   },
   "outputs": [],
   "source": [
    "captions = utils.readCaptions(params.VAL_CAPTIONS_PATH)"
   ]
  },
  {
   "cell_type": "code",
   "execution_count": 113,
   "metadata": {
    "collapsed": true
   },
   "outputs": [],
   "source": [
    "#agg = AGG_CAPTIONS(captions)"
   ]
  },
  {
   "cell_type": "code",
   "execution_count": 114,
   "metadata": {
    "collapsed": true
   },
   "outputs": [],
   "source": [
    "recaptions = reCaption(captions)"
   ]
  },
  {
   "cell_type": "code",
   "execution_count": 115,
   "metadata": {
    "collapsed": true
   },
   "outputs": [],
   "source": [
    "def applyword2vec(captions, vectors, path):\n",
    "    from sklearn.feature_extraction.text import CountVectorizer\n",
    "    unigram_vectorizer = CountVectorizer()\n",
    "    analyze = unigram_vectorizer.build_analyzer()\n",
    "    \n",
    "    i = 0\n",
    "    for caption in tqdm(captions.keys()):\n",
    "\n",
    "        sentences = captions[caption]\n",
    "        caption_descriptors = []\n",
    "        for sentence in sentences:\n",
    "            word_descriptor = []\n",
    "            for word in analyze(sentence):\n",
    "                if vectors.get(word) is not None:\n",
    "                    word_descriptor.append( np.asarray(vectors[word] ))\n",
    "                else:\n",
    "                    word_descriptor.append( np.zeros(300))\n",
    "\n",
    "            sentence_descriptor = np.mean(word_descriptor, axis=0)\n",
    "            caption_descriptors.append(sentence_descriptor)\n",
    "            name = path+str(caption)+'.npy'\n",
    "        np.save(name,np.asarray(caption_descriptors))    "
   ]
  },
  {
   "cell_type": "code",
   "execution_count": 116,
   "metadata": {},
   "outputs": [
    {
     "name": "stderr",
     "output_type": "stream",
     "text": [
      "100%|██████████| 40504/40504 [03:24<00:00, 197.62it/s]\n"
     ]
    }
   ],
   "source": [
    "applyword2vec(recaptions, vectors, params.W2V_DESCRIPTORS_VAL_PATH)"
   ]
  },
  {
   "cell_type": "code",
   "execution_count": null,
   "metadata": {
    "collapsed": true
   },
   "outputs": [],
   "source": []
  }
 ],
 "metadata": {
  "kernelspec": {
   "display_name": "Python 3",
   "language": "python",
   "name": "python3"
  },
  "language_info": {
   "codemirror_mode": {
    "name": "ipython",
    "version": 3
   },
   "file_extension": ".py",
   "mimetype": "text/x-python",
   "name": "python",
   "nbconvert_exporter": "python",
   "pygments_lexer": "ipython3",
   "version": "3.6.1"
  }
 },
 "nbformat": 4,
 "nbformat_minor": 2
}
