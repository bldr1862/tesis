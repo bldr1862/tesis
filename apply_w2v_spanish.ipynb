{
 "cells": [
  {
   "cell_type": "code",
   "execution_count": 1,
   "metadata": {
    "collapsed": true
   },
   "outputs": [],
   "source": [
    "import numpy as np"
   ]
  },
  {
   "cell_type": "code",
   "execution_count": 2,
   "metadata": {
    "collapsed": true
   },
   "outputs": [],
   "source": [
    "captions = np.load('./DATASETS/spanish_train.npy')"
   ]
  },
  {
   "cell_type": "code",
   "execution_count": 3,
   "metadata": {},
   "outputs": [
    {
     "data": {
      "text/plain": [
       "array([{'image_id': 318556, 'caption': 'Un cuarto de baño muy limpio y bien decorado vacío'},\n",
       "       {'image_id': 116100, 'caption': 'Una vista panorámica de una cocina y todos sus aparatos.'},\n",
       "       {'image_id': 318556, 'caption': 'Un cuarto de baño azul y blanco con azulejos de la pared temáticos de la mariposa.'},\n",
       "       ...,\n",
       "       {'image_id': 180285, 'caption': 'Dos mujeres se sientan y posan con animales de peluche.'},\n",
       "       {'image_id': 133071, 'caption': 'Plato blanco con una gran cantidad de guacamole y una cucharada grande extra de crema agria sobre la carne'},\n",
       "       {'image_id': 133071, 'caption': 'Un plato tiene un embargo de cuña de limón.'}],\n",
       "      dtype=object)"
      ]
     },
     "execution_count": 3,
     "metadata": {},
     "output_type": "execute_result"
    }
   ],
   "source": [
    "captions"
   ]
  },
  {
   "cell_type": "code",
   "execution_count": 4,
   "metadata": {
    "collapsed": true
   },
   "outputs": [],
   "source": [
    "import utils\n",
    "import params\n",
    "import numpy as np\n",
    "\n",
    "from tqdm import tqdm"
   ]
  },
  {
   "cell_type": "code",
   "execution_count": 5,
   "metadata": {
    "collapsed": true
   },
   "outputs": [],
   "source": [
    "import io\n",
    "\n",
    "def load_vectors(fname):\n",
    "    fin = io.open(fname, 'r', encoding='utf-8', newline='\\n', errors='ignore')\n",
    "    #n, d = map(int, fin.readline().split())\n",
    "    data = {}\n",
    "    for line in fin:\n",
    "        tokens = line.rstrip().split(' ')\n",
    "        data[tokens[0]] = [float(x) for x in tokens[1:]]\n",
    "    return data"
   ]
  },
  {
   "cell_type": "code",
   "execution_count": 6,
   "metadata": {
    "collapsed": true
   },
   "outputs": [],
   "source": [
    "fname = 'MODEL/cc.es.300.vec'\n",
    "vectors = load_vectors(fname)"
   ]
  },
  {
   "cell_type": "code",
   "execution_count": 7,
   "metadata": {
    "collapsed": true
   },
   "outputs": [],
   "source": [
    "def reCaption(captions):\n",
    "    from collections import defaultdict\n",
    "    from sklearn.feature_extraction.text import CountVectorizer\n",
    "    from nltk.corpus import stopwords\n",
    "    recaptions = defaultdict(list)\n",
    "    stop_words = set (stopwords.words( 'spanish' ))\n",
    "    unigram_vectorizer = CountVectorizer()\n",
    "    analyze = unigram_vectorizer.build_analyzer()\n",
    "\n",
    "    for caption in captions:\n",
    "        name = caption.get('image_id')\n",
    "        des = caption.get('caption').lower()\n",
    "\n",
    "        #remove stopwords\n",
    "        des_stemmed = []\n",
    "        for word in analyze(des):\n",
    "            if word not in stop_words:\n",
    "                des_stemmed.append(word)\n",
    "        des_stemmed = ' '.join(des_stemmed)\n",
    "        \n",
    "        recaptions[name].append(des_stemmed)\n",
    "    return recaptions"
   ]
  },
  {
   "cell_type": "code",
   "execution_count": 8,
   "metadata": {
    "collapsed": true
   },
   "outputs": [],
   "source": [
    "recaptions = reCaption(captions)"
   ]
  },
  {
   "cell_type": "code",
   "execution_count": 9,
   "metadata": {
    "collapsed": true
   },
   "outputs": [],
   "source": [
    "def applyword2vec(captions, vectors, path):\n",
    "    from sklearn.feature_extraction.text import CountVectorizer\n",
    "    unigram_vectorizer = CountVectorizer()\n",
    "    analyze = unigram_vectorizer.build_analyzer()\n",
    "    \n",
    "    i = 0\n",
    "    for caption in tqdm(captions.keys()):\n",
    "\n",
    "        sentences = captions[caption]\n",
    "        caption_descriptors = []\n",
    "        for sentence in sentences:\n",
    "            word_descriptor = []\n",
    "            for word in analyze(sentence):\n",
    "                if vectors.get(word) is not None:\n",
    "                    word_descriptor.append( np.asarray(vectors[word] ))\n",
    "                else:\n",
    "                    word_descriptor.append( np.zeros(300))\n",
    "\n",
    "            sentence_descriptor = np.mean(word_descriptor, axis=0)\n",
    "            caption_descriptors.append(sentence_descriptor)\n",
    "            name = path+str(caption)+'.npy'\n",
    "        np.save(name,np.asarray(caption_descriptors))    "
   ]
  },
  {
   "cell_type": "code",
   "execution_count": 10,
   "metadata": {},
   "outputs": [
    {
     "name": "stderr",
     "output_type": "stream",
     "text": [
      "100%|██████████| 82783/82783 [09:44<00:00, 141.67it/s]\n"
     ]
    }
   ],
   "source": [
    "applyword2vec(recaptions, vectors, 'C:\\\\Users\\\\bldr1\\\\Desktop\\\\TESIS\\\\DESCRIPTORS\\\\WORD2VECT_SPANISH\\\\TRAIN\\\\')"
   ]
  },
  {
   "cell_type": "code",
   "execution_count": null,
   "metadata": {
    "collapsed": true
   },
   "outputs": [],
   "source": []
  }
 ],
 "metadata": {
  "kernelspec": {
   "display_name": "Python 3",
   "language": "python",
   "name": "python3"
  },
  "language_info": {
   "codemirror_mode": {
    "name": "ipython",
    "version": 3
   },
   "file_extension": ".py",
   "mimetype": "text/x-python",
   "name": "python",
   "nbconvert_exporter": "python",
   "pygments_lexer": "ipython3",
   "version": "3.6.1"
  }
 },
 "nbformat": 4,
 "nbformat_minor": 2
}
