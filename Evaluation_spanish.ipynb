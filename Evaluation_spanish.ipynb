{
 "cells": [
  {
   "cell_type": "code",
   "execution_count": 1,
   "metadata": {},
   "outputs": [
    {
     "name": "stderr",
     "output_type": "stream",
     "text": [
      "C:\\Users\\bldr1\\Anaconda3\\lib\\site-packages\\h5py\\__init__.py:34: FutureWarning: Conversion of the second argument of issubdtype from `float` to `np.floating` is deprecated. In future, it will be treated as `np.float64 == np.dtype(float).type`.\n",
      "  from ._conv import register_converters as _register_converters\n",
      "Using TensorFlow backend.\n"
     ]
    }
   ],
   "source": [
    "import utils\n",
    "import params\n",
    "import os\n",
    "from tqdm import tqdm\n",
    "import numpy as np\n",
    "import xlsxwriter\n",
    "from collections import defaultdict\n",
    "\n",
    "from keras.models import Sequential\n",
    "from keras.layers import Activation, Dense, Dropout\n",
    "from keras.preprocessing import image"
   ]
  },
  {
   "cell_type": "markdown",
   "metadata": {},
   "source": [
    "### CHOOSE 1000 TEST QUERIES"
   ]
  },
  {
   "cell_type": "code",
   "execution_count": null,
   "metadata": {
    "collapsed": true
   },
   "outputs": [],
   "source": [
    "captions = utils.readCaptions(params.VAL_CAPTIONS_PATH)"
   ]
  },
  {
   "cell_type": "code",
   "execution_count": null,
   "metadata": {
    "collapsed": true
   },
   "outputs": [],
   "source": [
    "captions[0]"
   ]
  },
  {
   "cell_type": "code",
   "execution_count": null,
   "metadata": {
    "collapsed": true
   },
   "outputs": [],
   "source": [
    "\"\"\"N = 1011\n",
    "captions_idxs = np.arange(captions.__len__())\n",
    "np.random.shuffle(captions_idxs)\"\"\""
   ]
  },
  {
   "cell_type": "code",
   "execution_count": null,
   "metadata": {
    "collapsed": true
   },
   "outputs": [],
   "source": [
    "\"\"\"captions_dict = {}\n",
    "for caption_idx in tqdm(captions_idxs[:N]):\n",
    "    caption = captions[caption_idx]['caption']\n",
    "    caption_id = captions[caption_idx]['image_id']\n",
    "    caption_tfidf = np.load( params.TFIDF_DESCRIPTORS_VAL_PATH+str(caption_id)+'.npy').tolist()[0]\n",
    "    caption_rtfidf = np.load( params.REDUCED_TFIDF_DESCRIPTORS_VAL_PATH+str(caption_id)+'.npy').tolist()[0]\n",
    "    caption_w2v = np.load(  params.W2V_DESCRIPTORS_VAL_PATH+str(caption_id)+'.npy' )[0]\n",
    "    captions_dict[str(caption_id)] = {}\n",
    "    captions_dict[str(caption_id)]['caption'] = caption\n",
    "    captions_dict[str(caption_id)]['tfidf'] = caption_tfidf\n",
    "    captions_dict[str(caption_id)]['r-tfidf'] = caption_rtfidf\n",
    "    captions_dict[str(caption_id)]['w2v'] = caption_w2v\"\"\""
   ]
  },
  {
   "cell_type": "code",
   "execution_count": null,
   "metadata": {
    "collapsed": true
   },
   "outputs": [],
   "source": [
    "\"\"\"captions_dict.keys().__len__()\"\"\""
   ]
  },
  {
   "cell_type": "code",
   "execution_count": null,
   "metadata": {
    "collapsed": true
   },
   "outputs": [],
   "source": [
    "\"\"\"utils.savePickle(object=captions_dict, PATH='TMP/test_captions')\"\"\""
   ]
  },
  {
   "cell_type": "code",
   "execution_count": null,
   "metadata": {
    "collapsed": true
   },
   "outputs": [],
   "source": [
    "\"\"\"test_captions = utils.importPickle('TMP/test_captions')\"\"\""
   ]
  },
  {
   "cell_type": "code",
   "execution_count": 2,
   "metadata": {
    "collapsed": true
   },
   "outputs": [],
   "source": [
    "test_captions = utils.importPickle('TMP/spanish_pickle.pickle')"
   ]
  },
  {
   "cell_type": "code",
   "execution_count": 14,
   "metadata": {},
   "outputs": [
    {
     "data": {
      "text/plain": [
       "'174390'"
      ]
     },
     "execution_count": 14,
     "metadata": {},
     "output_type": "execute_result"
    }
   ],
   "source": [
    "list(test_captions.keys())[0]"
   ]
  },
  {
   "cell_type": "code",
   "execution_count": 15,
   "metadata": {},
   "outputs": [
    {
     "data": {
      "text/plain": [
       "{'caption': 'Una persona en una moto en una calle.',\n",
       " 'rtfidf': <1x94412 sparse matrix of type '<class 'numpy.float64'>'\n",
       " \twith 5 stored elements in Compressed Sparse Row format>,\n",
       " 'rtfidf_paths': ['C:\\\\Users\\\\bldr1\\\\Desktop\\\\TESIS\\\\DATASETS\\\\val2014\\\\\\\\COCO_val2014_000000507927.jpg',\n",
       "  'C:\\\\Users\\\\bldr1\\\\Desktop\\\\TESIS\\\\DATASETS\\\\val2014\\\\\\\\COCO_val2014_000000503135.jpg',\n",
       "  'C:\\\\Users\\\\bldr1\\\\Desktop\\\\TESIS\\\\DATASETS\\\\val2014\\\\\\\\COCO_val2014_000000559171.jpg',\n",
       "  'C:\\\\Users\\\\bldr1\\\\Desktop\\\\TESIS\\\\DATASETS\\\\val2014\\\\\\\\COCO_val2014_000000118970.jpg',\n",
       "  'C:\\\\Users\\\\bldr1\\\\Desktop\\\\TESIS\\\\DATASETS\\\\val2014\\\\\\\\COCO_val2014_000000312803.jpg',\n",
       "  'C:\\\\Users\\\\bldr1\\\\Desktop\\\\TESIS\\\\DATASETS\\\\val2014\\\\\\\\COCO_val2014_000000477500.jpg',\n",
       "  'C:\\\\Users\\\\bldr1\\\\Desktop\\\\TESIS\\\\DATASETS\\\\val2014\\\\\\\\COCO_val2014_000000566249.jpg',\n",
       "  'C:\\\\Users\\\\bldr1\\\\Desktop\\\\TESIS\\\\DATASETS\\\\val2014\\\\\\\\COCO_val2014_000000185373.jpg',\n",
       "  'C:\\\\Users\\\\bldr1\\\\Desktop\\\\TESIS\\\\DATASETS\\\\val2014\\\\\\\\COCO_val2014_000000538364.jpg',\n",
       "  'C:\\\\Users\\\\bldr1\\\\Desktop\\\\TESIS\\\\DATASETS\\\\val2014\\\\\\\\COCO_val2014_000000235595.jpg'],\n",
       " 'tfidf': <1x395479 sparse matrix of type '<class 'numpy.float64'>'\n",
       " \twith 5 stored elements in Compressed Sparse Row format>,\n",
       " 'tfidf_paths': ['C:\\\\Users\\\\bldr1\\\\Desktop\\\\TESIS\\\\DATASETS\\\\val2014\\\\\\\\COCO_val2014_000000507927.jpg',\n",
       "  'C:\\\\Users\\\\bldr1\\\\Desktop\\\\TESIS\\\\DATASETS\\\\val2014\\\\\\\\COCO_val2014_000000503135.jpg',\n",
       "  'C:\\\\Users\\\\bldr1\\\\Desktop\\\\TESIS\\\\DATASETS\\\\val2014\\\\\\\\COCO_val2014_000000566249.jpg',\n",
       "  'C:\\\\Users\\\\bldr1\\\\Desktop\\\\TESIS\\\\DATASETS\\\\val2014\\\\\\\\COCO_val2014_000000559171.jpg',\n",
       "  'C:\\\\Users\\\\bldr1\\\\Desktop\\\\TESIS\\\\DATASETS\\\\val2014\\\\\\\\COCO_val2014_000000312803.jpg',\n",
       "  'C:\\\\Users\\\\bldr1\\\\Desktop\\\\TESIS\\\\DATASETS\\\\val2014\\\\\\\\COCO_val2014_000000118970.jpg',\n",
       "  'C:\\\\Users\\\\bldr1\\\\Desktop\\\\TESIS\\\\DATASETS\\\\val2014\\\\\\\\COCO_val2014_000000477500.jpg',\n",
       "  'C:\\\\Users\\\\bldr1\\\\Desktop\\\\TESIS\\\\DATASETS\\\\val2014\\\\\\\\COCO_val2014_000000023821.jpg',\n",
       "  'C:\\\\Users\\\\bldr1\\\\Desktop\\\\TESIS\\\\DATASETS\\\\val2014\\\\\\\\COCO_val2014_000000374987.jpg',\n",
       "  'C:\\\\Users\\\\bldr1\\\\Desktop\\\\TESIS\\\\DATASETS\\\\val2014\\\\\\\\COCO_val2014_000000270066.jpg'],\n",
       " 'w2v': array([ 9.76666667e-03, -2.46333333e-02,  5.34666667e-02, -3.58000000e-02,\n",
       "         7.12666667e-02,  2.93333333e-03,  1.27000000e-02,  1.72666667e-02,\n",
       "        -5.23333333e-02, -1.19666667e-01, -7.51333333e-02, -2.73000000e-02,\n",
       "        -3.76666667e-03, -2.88000000e-02, -3.02333333e-02,  1.67666667e-02,\n",
       "         8.97666667e-02, -4.06666667e-02,  2.26333333e-02,  1.18666667e-02,\n",
       "        -7.76666667e-02,  1.28666667e-02,  6.66666667e-05, -3.40000000e-02,\n",
       "        -5.23333333e-02, -2.34000000e-02, -9.76666667e-03,  4.11666667e-02,\n",
       "        -4.68666667e-02, -1.33333333e-02, -7.62333333e-02, -1.22000000e-02,\n",
       "        -5.18333333e-02,  5.76333333e-02, -1.82666667e-02,  4.33333333e-02,\n",
       "        -2.25000000e-02, -1.10000000e-02, -5.40000000e-03,  1.62666667e-02,\n",
       "        -3.19666667e-02,  2.79333333e-02,  3.20333333e-02, -2.91000000e-02,\n",
       "        -9.61000000e-02, -4.13000000e-02, -1.83000000e-02,  2.90000000e-03,\n",
       "        -1.89333333e-02,  1.63666667e-02, -1.12000000e-02,  6.61666667e-02,\n",
       "         1.03866667e-01, -1.53333333e-03, -2.11000000e-02,  3.56666667e-02,\n",
       "         7.07333333e-02, -2.20000000e-02, -5.70666667e-02, -1.76000000e-02,\n",
       "         3.90333333e-02,  4.76666667e-03, -1.77000000e-02, -4.37000000e-02,\n",
       "        -1.82000000e-02, -7.25666667e-02, -7.63333333e-03,  4.49333333e-02,\n",
       "        -6.21000000e-02, -2.33333333e-03, -5.47000000e-02,  1.87666667e-02,\n",
       "        -4.61666667e-02,  2.24000000e-02,  1.32333333e-02, -2.01666667e-02,\n",
       "         2.08666667e-02,  6.83666667e-02,  1.81333333e-02, -1.01000000e-02,\n",
       "        -3.87666667e-02, -6.16333333e-02, -6.10333333e-02,  1.83000000e-02,\n",
       "        -1.56666667e-03,  7.43333333e-03,  2.25000000e-02,  5.06666667e-02,\n",
       "        -1.21333333e-02, -6.11333333e-02, -5.83000000e-02,  4.59000000e-02,\n",
       "        -8.57000000e-02,  2.05333333e-02,  9.79666667e-02, -3.86666667e-03,\n",
       "         3.40666667e-02,  6.94333333e-02, -1.80000000e-03, -2.41333333e-02,\n",
       "        -3.00000000e-04, -8.66666667e-03, -3.61000000e-02, -5.50000000e-03,\n",
       "         8.10000000e-02, -2.03333333e-03, -5.30666667e-02, -4.48000000e-02,\n",
       "         3.50666667e-02,  4.97000000e-02, -6.30666667e-02,  4.32666667e-02,\n",
       "         3.09000000e-02,  4.14666667e-02, -7.36666667e-03,  4.04000000e-02,\n",
       "        -3.67000000e-02,  2.00000000e-04,  1.73333333e-03,  5.28000000e-02,\n",
       "        -2.87000000e-02, -4.95333333e-02,  1.02000000e-02,  1.04666667e-02,\n",
       "         4.36666667e-02,  1.25333333e-02, -7.29000000e-02, -2.26000000e-02,\n",
       "        -7.35000000e-02,  4.66333333e-02, -3.08000000e-02,  1.19000000e-01,\n",
       "         1.26666667e-02,  1.11266667e-01,  3.10333333e-02,  5.73333333e-02,\n",
       "        -9.10000000e-03,  5.07333333e-02, -7.26666667e-03,  1.46666667e-02,\n",
       "         8.10000000e-03, -1.85333333e-02, -8.76666667e-03, -3.10000000e-03,\n",
       "        -1.23000000e-02, -6.99666667e-02,  5.28666667e-02, -1.89666667e-02,\n",
       "        -1.02966667e-01,  1.90666667e-02, -6.45666667e-02,  2.29333333e-02,\n",
       "        -1.09666667e-02, -4.99666667e-02,  5.48333333e-02, -3.79000000e-02,\n",
       "         1.92333333e-02, -1.61000000e-02, -7.34333333e-02,  4.63333333e-03,\n",
       "         3.63666667e-02, -3.52666667e-02, -4.42666667e-02, -8.39333333e-02,\n",
       "        -3.86666667e-02, -2.91333333e-02, -4.80000000e-02, -5.34666667e-02,\n",
       "        -3.10000000e-02, -5.20000000e-03, -7.70000000e-03, -4.41333333e-02,\n",
       "        -1.78666667e-02, -3.73333333e-03, -4.82333333e-02, -1.53666667e-02,\n",
       "         2.26666667e-03, -7.13333333e-02, -5.73333333e-03,  2.55666667e-02,\n",
       "         1.13933333e-01,  3.45000000e-02,  2.20333333e-02,  3.72333333e-02,\n",
       "        -5.63333333e-03,  1.44000000e-02,  6.66666667e-02, -5.33333333e-03,\n",
       "         1.60666667e-02,  2.97000000e-02, -6.01000000e-02, -2.46666667e-03,\n",
       "         1.33333333e-04,  6.46666667e-02,  3.71333333e-02,  1.89666667e-02,\n",
       "        -8.56666667e-03,  1.97333333e-02, -2.73000000e-02,  1.55600000e-01,\n",
       "        -7.94333333e-02,  7.13333333e-03, -7.45666667e-02, -6.81000000e-02,\n",
       "         2.01000000e-02,  5.60333333e-02, -6.42333333e-02, -1.29066667e-01,\n",
       "        -1.32166667e-01, -2.33000000e-02, -3.93000000e-02,  3.90000000e-03,\n",
       "        -1.88666667e-02, -3.89000000e-02,  5.96666667e-03,  1.03333333e-03,\n",
       "        -1.79000000e-02, -2.61000000e-02,  1.08333333e-02,  1.08000000e-02,\n",
       "         2.78333333e-02,  4.01666667e-02, -2.28000000e-02, -5.22000000e-02,\n",
       "         1.45333333e-02, -2.60333333e-02,  3.90000000e-03,  5.07000000e-02,\n",
       "         9.10000000e-02,  2.84000000e-02, -1.11166667e-01, -2.86666667e-03,\n",
       "        -5.98333333e-02,  4.80000000e-03, -4.28333333e-02,  4.58333333e-02,\n",
       "        -5.27666667e-02,  8.36000000e-02, -9.23333333e-03,  2.34333333e-02,\n",
       "        -3.78000000e-02,  3.67666667e-02,  1.41333333e-02, -2.87333333e-02,\n",
       "        -3.81666667e-02, -3.92333333e-02,  1.96666667e-02,  5.79333333e-02,\n",
       "         4.61666667e-02, -5.35000000e-02,  3.17000000e-02,  4.51666667e-02,\n",
       "         1.06666667e-01, -7.19333333e-02, -1.06666667e-02, -2.81333333e-02,\n",
       "         4.30000000e-02, -1.18666667e-02,  2.19666667e-02, -6.40000000e-03,\n",
       "         2.23333333e-03,  2.19666667e-02, -2.22333333e-02, -1.07966667e-01,\n",
       "        -2.04000000e-02, -3.42666667e-02,  1.74000000e-02, -4.96333333e-02,\n",
       "        -1.80000000e-02, -5.59333333e-02, -2.71000000e-02,  6.87666667e-02,\n",
       "        -6.66666667e-04, -8.21333333e-02, -2.20000000e-02, -5.13333333e-02,\n",
       "         3.81000000e-02, -4.45666667e-02,  8.76666667e-03, -2.39666667e-02,\n",
       "         4.90000000e-03,  1.04166667e-01, -1.98000000e-02, -4.70000000e-03,\n",
       "        -7.30000000e-03, -1.16666667e-02, -8.20000000e-03,  1.48333333e-02,\n",
       "        -1.98333333e-02, -2.73666667e-02, -6.68000000e-02, -7.94666667e-02,\n",
       "         2.40000000e-03, -1.32333333e-02,  7.90000000e-03, -3.37000000e-02,\n",
       "         5.82666667e-02, -3.00000000e-04, -2.34000000e-02, -4.40000000e-03]),\n",
       " 'w2v_paths': ['C:\\\\Users\\\\bldr1\\\\Desktop\\\\TESIS\\\\DATASETS\\\\val2014\\\\\\\\COCO_val2014_000000503135.jpg',\n",
       "  'C:\\\\Users\\\\bldr1\\\\Desktop\\\\TESIS\\\\DATASETS\\\\val2014\\\\\\\\COCO_val2014_000000538364.jpg',\n",
       "  'C:\\\\Users\\\\bldr1\\\\Desktop\\\\TESIS\\\\DATASETS\\\\val2014\\\\\\\\COCO_val2014_000000507927.jpg',\n",
       "  'C:\\\\Users\\\\bldr1\\\\Desktop\\\\TESIS\\\\DATASETS\\\\val2014\\\\\\\\COCO_val2014_000000566249.jpg',\n",
       "  'C:\\\\Users\\\\bldr1\\\\Desktop\\\\TESIS\\\\DATASETS\\\\val2014\\\\\\\\COCO_val2014_000000312803.jpg',\n",
       "  'C:\\\\Users\\\\bldr1\\\\Desktop\\\\TESIS\\\\DATASETS\\\\val2014\\\\\\\\COCO_val2014_000000566278.jpg',\n",
       "  'C:\\\\Users\\\\bldr1\\\\Desktop\\\\TESIS\\\\DATASETS\\\\val2014\\\\\\\\COCO_val2014_000000317254.jpg',\n",
       "  'C:\\\\Users\\\\bldr1\\\\Desktop\\\\TESIS\\\\DATASETS\\\\val2014\\\\\\\\COCO_val2014_000000235595.jpg',\n",
       "  'C:\\\\Users\\\\bldr1\\\\Desktop\\\\TESIS\\\\DATASETS\\\\val2014\\\\\\\\COCO_val2014_000000559171.jpg',\n",
       "  'C:\\\\Users\\\\bldr1\\\\Desktop\\\\TESIS\\\\DATASETS\\\\val2014\\\\\\\\COCO_val2014_000000225792.jpg']}"
      ]
     },
     "execution_count": 15,
     "metadata": {},
     "output_type": "execute_result"
    }
   ],
   "source": [
    "test_captions['174390']"
   ]
  },
  {
   "cell_type": "code",
   "execution_count": 4,
   "metadata": {
    "collapsed": true
   },
   "outputs": [],
   "source": [
    "OUTPUT_SHAPE = 128\n",
    "TFIDF_SPANISH_CNN_WEIGHTS = 'TMP/model_tfidf_spanish_cnn_pca_dropout_02.h5'\n",
    "RTFIDF_SPANISH_CNN_WEIGHTS = 'TMP/model_rtfidf_spanish_cnn_pca_dropout_02.h5'\n",
    "W2V_SPANISH_CNN_WEIGHTS = 'TMP/model_w2v_spanish_cnn_pca_dropout_02.h5'"
   ]
  },
  {
   "cell_type": "code",
   "execution_count": 6,
   "metadata": {
    "collapsed": true
   },
   "outputs": [],
   "source": [
    "INPUT_SHAPE = 395479\n",
    "tfidf_model = Sequential()\n",
    "tfidf_model.add(Dense(input_dim=INPUT_SHAPE, units = 150, kernel_initializer='normal'))\n",
    "tfidf_model.add(Activation('relu'))\n",
    "tfidf_model.add(Dropout(0.2))\n",
    "tfidf_model.add(Dense(units = 130, kernel_initializer='normal'))\n",
    "tfidf_model.add(Activation('relu'))\n",
    "tfidf_model.add(Dropout(0.2))\n",
    "tfidf_model.add(Dense(units = OUTPUT_SHAPE, kernel_initializer='normal'))\n",
    "tfidf_model.compile(loss='mean_squared_error',optimizer='adam')\n",
    "\n",
    "tfidf_model.load_weights(TFIDF_SPANISH_CNN_WEIGHTS)"
   ]
  },
  {
   "cell_type": "code",
   "execution_count": 7,
   "metadata": {
    "collapsed": true
   },
   "outputs": [],
   "source": [
    "INPUT_SHAPE = 94412\n",
    "rtfidf_model = Sequential()\n",
    "rtfidf_model.add(Dense(input_dim=INPUT_SHAPE, units = 150, kernel_initializer='normal'))\n",
    "rtfidf_model.add(Activation('relu'))\n",
    "rtfidf_model.add(Dropout(0.2))\n",
    "rtfidf_model.add(Dense(units = 130, kernel_initializer='normal'))\n",
    "rtfidf_model.add(Activation('relu'))\n",
    "rtfidf_model.add(Dropout(0.2))\n",
    "rtfidf_model.add(Dense(units = OUTPUT_SHAPE, kernel_initializer='normal'))\n",
    "rtfidf_model.compile(loss='mean_squared_error',optimizer='adam')\n",
    "\n",
    "rtfidf_model.load_weights(RTFIDF_SPANISH_CNN_WEIGHTS)"
   ]
  },
  {
   "cell_type": "code",
   "execution_count": 8,
   "metadata": {
    "collapsed": true
   },
   "outputs": [],
   "source": [
    "INPUT_SHAPE = 300\n",
    "w2v_model = Sequential()\n",
    "w2v_model.add(Dense(input_dim=INPUT_SHAPE, units = 150, kernel_initializer='normal'))\n",
    "w2v_model.add(Activation('relu'))\n",
    "w2v_model.add(Dropout(0.2))\n",
    "w2v_model.add(Dense(units = 130, kernel_initializer='normal'))\n",
    "w2v_model.add(Activation('relu'))\n",
    "w2v_model.add(Dropout(0.2))\n",
    "w2v_model.add(Dense(units = OUTPUT_SHAPE, kernel_initializer='normal'))\n",
    "w2v_model.compile(loss='mean_squared_error',optimizer='adam')\n",
    "\n",
    "w2v_model.load_weights(W2V_SPANISH_CNN_WEIGHTS)"
   ]
  },
  {
   "cell_type": "code",
   "execution_count": 9,
   "metadata": {
    "collapsed": true
   },
   "outputs": [],
   "source": [
    "tree = utils.importPickle(params.CNN_VAL_INDEX)\n",
    "order = utils.importPickle(params.CNN_VAL_ORDER)"
   ]
  },
  {
   "cell_type": "code",
   "execution_count": 12,
   "metadata": {},
   "outputs": [
    {
     "name": "stderr",
     "output_type": "stream",
     "text": [
      "100%|██████████| 1000/1000 [02:03<00:00,  8.07it/s]\n"
     ]
    }
   ],
   "source": [
    "for key in tqdm(test_captions.keys()):\n",
    "    tfidf_pred = tfidf_model.predict(test_captions[key]['tfidf'])\n",
    "    rtfidf_pred = rtfidf_model.predict(test_captions[key]['rtfidf'])\n",
    "    w2v_pred = w2v_model.predict(test_captions[key]['w2v'].reshape(-1,300))\n",
    "      \n",
    "    tfidf_dist, tfidf_idxs = tree.query(tfidf_pred/np.linalg.norm(tfidf_pred), k=10)\n",
    "    rtfidf_dist, rtfidf_idxs = tree.query(rtfidf_pred/np.linalg.norm(rtfidf_pred), k=10)\n",
    "    w2v_dist, w2v_idxs = tree.query(w2v_pred/np.linalg.norm(w2v_pred), k=10)\n",
    "    \n",
    "    tfidf_images = [order[i] for i in tfidf_idxs[0]] \n",
    "    rtfidf_images = [order[i] for i in rtfidf_idxs[0]]\n",
    "    w2v_images = [order[i] for i in w2v_idxs[0]]\n",
    "    \n",
    "    tfidf_paths = [params.VAL_IMAGES_PATH + os.path.basename(image).split('.')[0][4:]+'.jpg' for image in tfidf_images]\n",
    "    rtfidf_paths = [params.VAL_IMAGES_PATH + os.path.basename(image).split('.')[0][4:]+'.jpg' for image in rtfidf_images]\n",
    "    w2v_paths = [params.VAL_IMAGES_PATH + os.path.basename(image).split('.')[0][4:]+'.jpg' for image in w2v_images]\n",
    "    \n",
    "    test_captions[key]['tfidf_paths'] = tfidf_paths\n",
    "    test_captions[key]['rtfidf_paths'] = rtfidf_paths\n",
    "    test_captions[key]['w2v_paths'] = w2v_paths"
   ]
  },
  {
   "cell_type": "code",
   "execution_count": 17,
   "metadata": {
    "collapsed": true
   },
   "outputs": [],
   "source": [
    "utils.savePickle(test_captions,'TMP/cnn_spanish_captions')"
   ]
  },
  {
   "cell_type": "code",
   "execution_count": 18,
   "metadata": {
    "collapsed": true
   },
   "outputs": [],
   "source": [
    "alphabet = ['C', 'D', 'E', 'F', 'G', 'H', 'I', 'J', \n",
    "            'K', 'L', 'M', 'N', 'O', 'P', 'Q', 'R', 'S', 'T', 'U', 'V', 'W', 'X', 'Y', 'Z']"
   ]
  },
  {
   "cell_type": "code",
   "execution_count": 20,
   "metadata": {},
   "outputs": [
    {
     "name": "stderr",
     "output_type": "stream",
     "text": [
      "100%|██████████| 100/100 [00:27<00:00,  3.70it/s]\n",
      "100%|██████████| 100/100 [00:31<00:00,  3.20it/s]\n",
      "100%|██████████| 100/100 [00:34<00:00,  2.90it/s]\n",
      "100%|██████████| 100/100 [00:36<00:00,  2.74it/s]\n",
      "100%|██████████| 100/100 [00:29<00:00,  3.34it/s]\n",
      "100%|██████████| 100/100 [00:29<00:00,  3.41it/s]\n",
      "100%|██████████| 100/100 [00:27<00:00,  3.59it/s]\n",
      "100%|██████████| 100/100 [00:29<00:00,  3.42it/s]\n",
      "100%|██████████| 100/100 [00:28<00:00,  3.46it/s]\n",
      "100%|██████████| 100/100 [00:28<00:00,  3.50it/s]\n"
     ]
    }
   ],
   "source": [
    "for counter in range(10):\n",
    "    tfidf_workbook = xlsxwriter.Workbook('EXCELS/SPANISH/tfidf_spanish_cnn_{}.xlsx'.format(counter))\n",
    "    tfidf_worksheet = tfidf_workbook.add_worksheet()\n",
    "    tfidf_worksheet.set_column('A:A', 10)\n",
    "    tfidf_worksheet.set_column('B:B', 60)\n",
    "    tfidf_worksheet.write('A1','POSITION')\n",
    "\n",
    "    j = 4\n",
    "    for key in tqdm(list(test_captions.keys())[counter*100:counter*100+100]):\n",
    "        caption = test_captions[key]['caption']\n",
    "        tfidf_paths = test_captions[key]['tfidf_paths']\n",
    "        #rtfidf_paths = captions_dict[key]['rtfidf_paths']\n",
    "        #w2v_paths = captions_dict[key]['w2v_paths']\n",
    "\n",
    "\n",
    "\n",
    "        tfidf_worksheet.write('B{}'.format(j), caption)\n",
    "        for i, path in enumerate(tfidf_paths):\n",
    "            img = image.load_img(path, target_size=(224, 224))\n",
    "            name = 'CROP/'+os.path.basename(path)\n",
    "            image.save_img(name, img)\n",
    "            tfidf_worksheet.insert_image('{}{}'.format(alphabet[i*2], j-2), \n",
    "                                         name, \n",
    "                                         {'x_scale': 0.5, 'y_scale': 0.5})\n",
    "\n",
    "        j = j+6\n",
    "    tfidf_workbook.close()"
   ]
  },
  {
   "cell_type": "code",
   "execution_count": 22,
   "metadata": {},
   "outputs": [
    {
     "name": "stderr",
     "output_type": "stream",
     "text": [
      "100%|██████████| 100/100 [00:29<00:00,  3.37it/s]\n",
      "100%|██████████| 100/100 [00:27<00:00,  3.61it/s]\n",
      "100%|██████████| 100/100 [00:27<00:00,  3.67it/s]\n",
      "100%|██████████| 100/100 [00:26<00:00,  3.78it/s]\n",
      "100%|██████████| 100/100 [00:26<00:00,  3.73it/s]\n",
      "100%|██████████| 100/100 [00:27<00:00,  3.69it/s]\n",
      "100%|██████████| 100/100 [00:28<00:00,  3.56it/s]\n",
      "100%|██████████| 100/100 [00:29<00:00,  3.34it/s]\n",
      "100%|██████████| 100/100 [00:30<00:00,  3.31it/s]\n",
      "100%|██████████| 100/100 [00:28<00:00,  3.51it/s]\n"
     ]
    }
   ],
   "source": [
    "for counter in range(10):\n",
    "    rtfidf_workbook = xlsxwriter.Workbook('EXCELS/SPANISH/rtfidf_spanish_cnn_{}.xlsx'.format(counter))\n",
    "    rtfidf_worksheet = rtfidf_workbook.add_worksheet()\n",
    "    rtfidf_worksheet.set_column('A:A', 10)\n",
    "    rtfidf_worksheet.set_column('B:B', 60)\n",
    "    rtfidf_worksheet.write('A1','POSITION')\n",
    "\n",
    "    j = 4\n",
    "    for key in tqdm(list(test_captions.keys())[counter*100:counter*100+100]):\n",
    "        caption = test_captions[key]['caption']\n",
    "        rtfidf_paths = test_captions[key]['rtfidf_paths']\n",
    "        #rtfidf_paths = captions_dict[key]['rtfidf_paths']\n",
    "        #w2v_paths = captions_dict[key]['w2v_paths']\n",
    "\n",
    "\n",
    "\n",
    "        rtfidf_worksheet.write('B{}'.format(j), caption)\n",
    "        for i, path in enumerate(rtfidf_paths):\n",
    "            img = image.load_img(path, target_size=(224, 224))\n",
    "            name = 'CROP/'+os.path.basename(path)\n",
    "            image.save_img(name, img)\n",
    "            rtfidf_worksheet.insert_image('{}{}'.format(alphabet[i*2], j-2), \n",
    "                                         name, \n",
    "                                         {'x_scale': 0.5, 'y_scale': 0.5})\n",
    "\n",
    "        j = j+6\n",
    "    rtfidf_workbook.close()"
   ]
  },
  {
   "cell_type": "code",
   "execution_count": 23,
   "metadata": {},
   "outputs": [
    {
     "name": "stderr",
     "output_type": "stream",
     "text": [
      "100%|██████████| 100/100 [00:27<00:00,  3.65it/s]\n",
      "100%|██████████| 100/100 [00:30<00:00,  3.31it/s]\n",
      "100%|██████████| 100/100 [00:24<00:00,  4.11it/s]\n",
      "100%|██████████| 100/100 [00:24<00:00,  4.10it/s]\n",
      "100%|██████████| 100/100 [00:25<00:00,  3.89it/s]\n",
      "100%|██████████| 100/100 [00:23<00:00,  4.18it/s]\n",
      "100%|██████████| 100/100 [00:23<00:00,  4.17it/s]\n",
      "100%|██████████| 100/100 [00:25<00:00,  3.99it/s]\n",
      "100%|██████████| 100/100 [00:25<00:00,  3.95it/s]\n",
      "100%|██████████| 100/100 [00:25<00:00,  3.85it/s]\n"
     ]
    }
   ],
   "source": [
    "for counter in range(10):\n",
    "    w2v_workbook = xlsxwriter.Workbook('EXCELS/SPANISH/w2v_spanish_cnn_{}.xlsx'.format(counter))\n",
    "    w2v_worksheet = w2v_workbook.add_worksheet()\n",
    "    w2v_worksheet.set_column('A:A', 10)\n",
    "    w2v_worksheet.set_column('B:B', 60)\n",
    "    w2v_worksheet.write('A1','POSITION')\n",
    "\n",
    "    j = 4\n",
    "    for key in tqdm(list(test_captions.keys())[counter*100:counter*100+100]):\n",
    "        caption = test_captions[key]['caption']\n",
    "        w2v_paths = test_captions[key]['w2v_paths']\n",
    "        #rtfidf_paths = captions_dict[key]['rtfidf_paths']\n",
    "        #w2v_paths = captions_dict[key]['w2v_paths']\n",
    "\n",
    "\n",
    "\n",
    "        w2v_worksheet.write('B{}'.format(j), caption)\n",
    "        for i, path in enumerate(w2v_paths):\n",
    "            img = image.load_img(path, target_size=(224, 224))\n",
    "            name = 'CROP/'+os.path.basename(path)\n",
    "            image.save_img(name, img)\n",
    "            w2v_worksheet.insert_image('{}{}'.format(alphabet[i*2], j-2), \n",
    "                                         name, \n",
    "                                         {'x_scale': 0.5, 'y_scale': 0.5})\n",
    "\n",
    "        j = j+6\n",
    "    w2v_workbook.close()"
   ]
  },
  {
   "cell_type": "code",
   "execution_count": null,
   "metadata": {
    "collapsed": true
   },
   "outputs": [],
   "source": []
  }
 ],
 "metadata": {
  "kernelspec": {
   "display_name": "Python 3",
   "language": "python",
   "name": "python3"
  },
  "language_info": {
   "codemirror_mode": {
    "name": "ipython",
    "version": 3
   },
   "file_extension": ".py",
   "mimetype": "text/x-python",
   "name": "python",
   "nbconvert_exporter": "python",
   "pygments_lexer": "ipython3",
   "version": "3.6.1"
  }
 },
 "nbformat": 4,
 "nbformat_minor": 2
}
