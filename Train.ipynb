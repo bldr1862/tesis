{
 "cells": [
  {
   "cell_type": "code",
   "execution_count": 1,
   "metadata": {
    "collapsed": true
   },
   "outputs": [],
   "source": [
    "import utils\n",
    "import params\n",
    "import random\n",
    "import os\n",
    "import numpy as np\n",
    "from scipy.sparse import vstack\n",
    "\n",
    "from sklearn.neural_network import MLPRegressor"
   ]
  },
  {
   "cell_type": "code",
   "execution_count": 2,
   "metadata": {
    "collapsed": true
   },
   "outputs": [],
   "source": [
    "def loadArray(path):\n",
    "    return np.load(path)"
   ]
  },
  {
   "cell_type": "code",
   "execution_count": 3,
   "metadata": {
    "collapsed": true
   },
   "outputs": [],
   "source": [
    "TRAIN_SIZE = 0.8\n",
    "BATCH_SIZE = 100"
   ]
  },
  {
   "cell_type": "code",
   "execution_count": 4,
   "metadata": {
    "collapsed": true
   },
   "outputs": [],
   "source": [
    "text = utils.getFiles(params.TFIDF_DESCRIPTORS_TRAIN_PATH)\n",
    "images = utils.getFiles(params.CNN_PCA_DESCRIPTORS_TRAIN_PATH)"
   ]
  },
  {
   "cell_type": "code",
   "execution_count": 5,
   "metadata": {},
   "outputs": [
    {
     "data": {
      "text/plain": [
       "'C:\\\\Users\\\\bldr1\\\\Desktop\\\\TESIS\\\\DESCRIPTORS\\\\CNN_PCA\\\\TRAIN\\\\\\\\PCA_COCO_train2014_000000000009.npy'"
      ]
     },
     "execution_count": 5,
     "metadata": {},
     "output_type": "execute_result"
    }
   ],
   "source": [
    "images[0]"
   ]
  },
  {
   "cell_type": "code",
   "execution_count": 6,
   "metadata": {},
   "outputs": [
    {
     "data": {
      "text/plain": [
       "'C:\\\\Users\\\\bldr1\\\\Desktop\\\\TESIS\\\\DESCRIPTORS\\\\CNN_PCA\\\\TRAIN\\\\\\\\'"
      ]
     },
     "execution_count": 6,
     "metadata": {},
     "output_type": "execute_result"
    }
   ],
   "source": [
    "params.CNN_PCA_DESCRIPTORS_TRAIN_PATH"
   ]
  },
  {
   "cell_type": "code",
   "execution_count": 7,
   "metadata": {},
   "outputs": [],
   "source": [
    "random.seed(42)\n",
    "random.shuffle(text)"
   ]
  },
  {
   "cell_type": "code",
   "execution_count": 8,
   "metadata": {},
   "outputs": [],
   "source": [
    "train_text = text[:int(len(text)*TRAIN_SIZE)]\n",
    "val_text = text[int(len(text)*TRAIN_SIZE):]"
   ]
  },
  {
   "cell_type": "code",
   "execution_count": 9,
   "metadata": {
    "collapsed": true
   },
   "outputs": [],
   "source": [
    "def chunks(l, n):\n",
    "    \"\"\"Yield successive n-sized chunks from l.\"\"\"\n",
    "    for i in range(0, len(l), n):\n",
    "        yield l[i:i + n]"
   ]
  },
  {
   "cell_type": "code",
   "execution_count": 10,
   "metadata": {
    "collapsed": true
   },
   "outputs": [],
   "source": [
    "def buildImgName(basename, folder):\n",
    "    l = len(basename)\n",
    "    z = '0'*(16-l)\n",
    "    return os.path.join(folder,'PCA_COCO_train2014_'+z+basename)"
   ]
  },
  {
   "cell_type": "code",
   "execution_count": 11,
   "metadata": {},
   "outputs": [
    {
     "data": {
      "text/plain": [
       "'C:\\\\Users\\\\bldr1\\\\Desktop\\\\TESIS\\\\DESCRIPTORS\\\\CNN_PCA\\\\TRAIN\\\\\\\\PCA_COCO_train2014_000000000009.npy'"
      ]
     },
     "execution_count": 11,
     "metadata": {},
     "output_type": "execute_result"
    }
   ],
   "source": [
    "buildImgName('9.npy', params.CNN_PCA_DESCRIPTORS_TRAIN_PATH)"
   ]
  },
  {
   "cell_type": "code",
   "execution_count": 24,
   "metadata": {},
   "outputs": [],
   "source": [
    "def getBatch(ficheros_text, ficheros_img, batch_size):\n",
    "    \n",
    "    \n",
    "    for text_batch in chunks(ficheros_text,batch_size):\n",
    "        text_descriptors = []\n",
    "        img_descriptors = []\n",
    "        \n",
    "        for file in text_batch:\n",
    "            file_name = os.path.basename(file)\n",
    "            descriptor_text = loadArray(file).tolist()\n",
    "            for element in descriptor_text:\n",
    "                text_descriptors.append(element[0])\n",
    "                img_descriptors.append(loadArray(buildImgName(file_name, params.CNN_PCA_DESCRIPTORS_TRAIN_PATH))[0])\n",
    "            \n",
    "        yield np.asarray(text_descriptors), np.asarray(img_descriptors)"
   ]
  },
  {
   "cell_type": "code",
   "execution_count": 25,
   "metadata": {
    "collapsed": true
   },
   "outputs": [],
   "source": [
    "mlp = MLPRegressor(hidden_layer_sizes=(150,130))"
   ]
  },
  {
   "cell_type": "code",
   "execution_count": 26,
   "metadata": {},
   "outputs": [
    {
     "name": "stdout",
     "output_type": "stream",
     "text": [
      "Wall time: 660 ms\n"
     ]
    }
   ],
   "source": [
    "%%time\n",
    "for text_descriptors, img_descriptors in getBatch(train_text, images, BATCH_SIZE):\n",
    "    a = img_descriptors\n",
    "    b = text_descriptors\n",
    "    break"
   ]
  },
  {
   "cell_type": "code",
   "execution_count": 40,
   "metadata": {},
   "outputs": [
    {
     "name": "stderr",
     "output_type": "stream",
     "text": [
      "C:\\Users\\bldr1\\Anaconda3\\lib\\site-packages\\sklearn\\neural_network\\multilayer_perceptron.py:563: ConvergenceWarning: Stochastic Optimizer: Maximum iterations reached and the optimization hasn't converged yet.\n",
      "  % (), ConvergenceWarning)\n"
     ]
    },
    {
     "data": {
      "text/plain": [
       "MLPRegressor(activation='relu', alpha=0.0001, batch_size='auto', beta_1=0.9,\n",
       "       beta_2=0.999, early_stopping=False, epsilon=1e-08,\n",
       "       hidden_layer_sizes=(150, 130), learning_rate='constant',\n",
       "       learning_rate_init=0.001, max_iter=200, momentum=0.9,\n",
       "       nesterovs_momentum=True, power_t=0.5, random_state=None,\n",
       "       shuffle=True, solver='adam', tol=0.0001, validation_fraction=0.1,\n",
       "       verbose=False, warm_start=False)"
      ]
     },
     "execution_count": 40,
     "metadata": {},
     "output_type": "execute_result"
    }
   ],
   "source": [
    "mlp.fit(vstack(b),a)"
   ]
  },
  {
   "cell_type": "code",
   "execution_count": 41,
   "metadata": {},
   "outputs": [
    {
     "data": {
      "text/plain": [
       "18.374414854106522"
      ]
     },
     "execution_count": 41,
     "metadata": {},
     "output_type": "execute_result"
    }
   ],
   "source": [
    "mlp.best_loss_"
   ]
  },
  {
   "cell_type": "code",
   "execution_count": 43,
   "metadata": {},
   "outputs": [
    {
     "data": {
      "text/plain": [
       "<1x369537 sparse matrix of type '<class 'numpy.float64'>'\n",
       "\twith 11 stored elements in Compressed Sparse Row format>"
      ]
     },
     "execution_count": 43,
     "metadata": {},
     "output_type": "execute_result"
    }
   ],
   "source": [
    "vstack(b)[0]"
   ]
  },
  {
   "cell_type": "code",
   "execution_count": 44,
   "metadata": {},
   "outputs": [
    {
     "data": {
      "text/plain": [
       "array([[ -1.68042034, -34.75473863,  22.79545112, -15.71070511,\n",
       "         11.21120404, -29.90201819,  25.07696654, -23.25016112,\n",
       "         -3.09002932,   4.92590459,  -8.28036417, -21.04774161,\n",
       "         15.91029815,  30.82095495, -14.42275104,  12.75349639,\n",
       "          8.56387391,  11.1204357 , -22.07696984, -27.71972602,\n",
       "        -11.71845883, -17.45132223,  -7.30551561, -15.8075969 ,\n",
       "        -27.78448503,  -1.2430407 ,  29.33747225,  18.14140516,\n",
       "          6.13417943,  22.91067342, -10.39703337,  -9.06146769,\n",
       "          1.55993984, -11.98962646,  -1.4185545 , -13.19533385,\n",
       "         11.21355638, -12.36204183,   0.9454164 ,  -8.34096638,\n",
       "         13.05568973,   0.77258413,  16.71473416,  18.6132016 ,\n",
       "          7.73677588,  -7.8155115 ,  -6.53082175, -16.10768354,\n",
       "          3.82790964,  -2.76507317,  14.33709787, -19.50483835,\n",
       "        -10.6995483 , -19.81516875, -13.00917971,   0.05926584,\n",
       "          8.82795326,   6.24927719,  -8.07681915,   1.50677643,\n",
       "         -4.02687078,  -2.54282165, -12.91786617,   3.36890666,\n",
       "         -4.34246106,  -1.01177849,   9.59044955,  -2.2616061 ,\n",
       "         -8.66257881,  10.09309854,  -1.3164131 ,  -5.62851413,\n",
       "         -7.58900093,   4.36925918,  -0.65239969,   1.38836683,\n",
       "         -6.98199109, -11.10738064,  -2.55781818,  -7.60214281,\n",
       "          1.56639012,   6.34902495,  -0.54431349,  -9.92816261,\n",
       "          7.27880636,  -2.94689658,   2.9608931 ,  12.47076893,\n",
       "         -2.0632552 ,  -0.64535323, -11.51192821,  -0.54838801,\n",
       "         -1.82524267,  -9.20706195,  13.85536445,   0.29882184,\n",
       "         -2.08086814,  10.51079877,   3.97871479,   0.9161044 ,\n",
       "         -6.8198665 ,  -8.5199417 ,   1.0616293 ,   6.13373048,\n",
       "         -9.28582231,  -1.81006582,  -3.5563339 ,   0.08964935,\n",
       "          2.81794827,  -2.24462568,  -5.85116546,   2.70524437,\n",
       "         10.89053933,   5.3425322 ,   4.42549436,  -0.27386256,\n",
       "          7.99309024,   6.09040692,  -0.70377552,  -9.28059386,\n",
       "         14.05672906,   3.73657206,  -1.35458535,  -0.95547834,\n",
       "          3.62830923,  -8.79669037,   4.99833263,  -2.78676989]])"
      ]
     },
     "execution_count": 44,
     "metadata": {},
     "output_type": "execute_result"
    }
   ],
   "source": [
    "mlp.predict(vstack(b)[0])"
   ]
  },
  {
   "cell_type": "code",
   "execution_count": 45,
   "metadata": {
    "collapsed": true
   },
   "outputs": [],
   "source": [
    "import pickle"
   ]
  },
  {
   "cell_type": "code",
   "execution_count": 47,
   "metadata": {},
   "outputs": [],
   "source": [
    "with open(r'C:\\Users\\bldr1\\Desktop\\TESIS\\MODEL\\mlp_cnn.pickle', 'wb') as handle:\n",
    "    pickle.dump(mlp, handle, 2)"
   ]
  },
  {
   "cell_type": "code",
   "execution_count": null,
   "metadata": {
    "collapsed": true
   },
   "outputs": [],
   "source": []
  }
 ],
 "metadata": {
  "kernelspec": {
   "display_name": "Python 3",
   "language": "python",
   "name": "python3"
  },
  "language_info": {
   "codemirror_mode": {
    "name": "ipython",
    "version": 3
   },
   "file_extension": ".py",
   "mimetype": "text/x-python",
   "name": "python",
   "nbconvert_exporter": "python",
   "pygments_lexer": "ipython3",
   "version": "3.6.1"
  }
 },
 "nbformat": 4,
 "nbformat_minor": 2
}
