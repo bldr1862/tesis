{
 "cells": [
  {
   "cell_type": "code",
   "execution_count": 4,
   "metadata": {
    "collapsed": true
   },
   "outputs": [],
   "source": [
    "import params\n",
    "import utils\n",
    "import matplotlib.pyplot as plt"
   ]
  },
  {
   "cell_type": "code",
   "execution_count": 5,
   "metadata": {
    "collapsed": true
   },
   "outputs": [],
   "source": [
    "pca_cnn = utils.importPickle(params.PCA_MODEL)"
   ]
  },
  {
   "cell_type": "code",
   "execution_count": 6,
   "metadata": {
    "collapsed": true
   },
   "outputs": [],
   "source": [
    "pca_vlad = utils.importPickle(params.PCA_MODEL_VLAD)"
   ]
  },
  {
   "cell_type": "code",
   "execution_count": 16,
   "metadata": {
    "collapsed": true
   },
   "outputs": [],
   "source": [
    "cnn_variance = pca_cnn.explained_variance_ratio_"
   ]
  },
  {
   "cell_type": "code",
   "execution_count": 17,
   "metadata": {
    "collapsed": true
   },
   "outputs": [],
   "source": [
    "vlad_variance = pca_vlad.explained_variance_ratio_"
   ]
  },
  {
   "cell_type": "code",
   "execution_count": 19,
   "metadata": {},
   "outputs": [
    {
     "data": {
      "image/png": "[encoded data removed]",
      "text/plain": [
       "<matplotlib.figure.Figure at 0x214fbd683c8>"
      ]
     },
     "metadata": {},
     "output_type": "display_data"
    }
   ],
   "source": [
    "plt.hist(cnn_variance, cumulative=True)\n",
    "plt.show()"
   ]
  },
  {
   "cell_type": "code",
   "execution_count": 20,
   "metadata": {},
   "outputs": [
    {
     "data": {
      "text/plain": [
       "array([0.03502563, 0.02116363, 0.0199473 , 0.01820104, 0.01536626,\n",
       "       0.01313173, 0.01260705, 0.0104819 , 0.01015108, 0.00893968,\n",
       "       0.00888086, 0.00844583, 0.00763193, 0.00714485, 0.00684157,\n",
       "       0.0067392 , 0.00665401, 0.00623492, 0.0061406 , 0.00588543,\n",
       "       0.00569946, 0.0055728 , 0.00540594, 0.00495341, 0.00489817,\n",
       "       0.00485217, 0.00464531, 0.00462389, 0.00451342, 0.00424839,\n",
       "       0.00418845, 0.00412405, 0.00393645, 0.00385943, 0.00381725,\n",
       "       0.00373821, 0.0035995 , 0.00347361, 0.0034163 , 0.00337997,\n",
       "       0.00328192, 0.00321759, 0.00320119, 0.00316057, 0.00310924,\n",
       "       0.00301543, 0.00293192, 0.00291131, 0.00287173, 0.00278931,\n",
       "       0.00275411, 0.0027308 , 0.00268213, 0.00266709, 0.0026277 ,\n",
       "       0.00257111, 0.0025534 , 0.00251027, 0.0024212 , 0.00239159,\n",
       "       0.00236316, 0.00234305, 0.00231863, 0.0023076 , 0.00220235,\n",
       "       0.00216698, 0.00212521, 0.00210304, 0.00208464, 0.00203332,\n",
       "       0.00200453, 0.00196426, 0.0019576 , 0.00193723, 0.00192049,\n",
       "       0.00188859, 0.00185533, 0.00183184, 0.00181553, 0.00179184,\n",
       "       0.00177549, 0.00175925, 0.00174173, 0.00171184, 0.00169029,\n",
       "       0.00167398, 0.00164726, 0.00161659, 0.00159121, 0.00158534,\n",
       "       0.00156599, 0.00154449, 0.00152203, 0.00150396, 0.0014986 ,\n",
       "       0.00147416, 0.00145913, 0.00144532, 0.00142231, 0.00141243,\n",
       "       0.00139982, 0.00139192, 0.0013606 , 0.00134923, 0.00133139,\n",
       "       0.00132511, 0.00131873, 0.00130005, 0.00128969, 0.0012812 ,\n",
       "       0.00124885, 0.00124041, 0.00122732, 0.00121737, 0.00119782,\n",
       "       0.00117919, 0.00116595, 0.00115565, 0.00114055, 0.00113029,\n",
       "       0.00111773, 0.00110542, 0.00109616, 0.00107438, 0.00106639,\n",
       "       0.00104662, 0.00103727, 0.00102466])"
      ]
     },
     "execution_count": 20,
     "metadata": {},
     "output_type": "execute_result"
    }
   ],
   "source": [
    "cnn_variance"
   ]
  },
  {
   "cell_type": "code",
   "execution_count": 21,
   "metadata": {},
   "outputs": [
    {
     "data": {
      "text/plain": [
       "array([0.12265367, 0.07369374, 0.06359219, 0.04697087, 0.03891672,\n",
       "       0.03217739, 0.02900576, 0.02478105, 0.02447161, 0.02241647,\n",
       "       0.01760964, 0.01674828, 0.01515645, 0.01360989, 0.01292731,\n",
       "       0.01199254, 0.01129845, 0.01085482, 0.00989126, 0.00976382,\n",
       "       0.00913853, 0.0088386 , 0.00807007, 0.00776371, 0.00717273,\n",
       "       0.00700844, 0.00680173, 0.0067002 , 0.00629484, 0.00621374,\n",
       "       0.005939  , 0.00566894, 0.00552132, 0.00506823, 0.00495747,\n",
       "       0.00481522, 0.00459154, 0.00436818, 0.00426829, 0.0041377 ,\n",
       "       0.00399132, 0.00366258, 0.00360504, 0.00349471, 0.00339415,\n",
       "       0.00325703, 0.00311495, 0.00301056, 0.00291931, 0.00288674,\n",
       "       0.00277241, 0.00266472, 0.00259345, 0.00258047, 0.00241144,\n",
       "       0.002408  , 0.00235445, 0.0021362 , 0.0020577 , 0.00171456,\n",
       "       0.00102833, 0.00080686, 0.00079799, 0.00073425, 0.00070202,\n",
       "       0.00067111, 0.00063857, 0.00061845, 0.00057894, 0.00057089,\n",
       "       0.00054633, 0.00053553, 0.00051707, 0.00050775, 0.00048944,\n",
       "       0.00048311, 0.00046203, 0.00045331, 0.00043507, 0.00043165,\n",
       "       0.00042665, 0.00041394, 0.00040888, 0.00039924, 0.00039301,\n",
       "       0.00038992, 0.00038639, 0.00038333, 0.00038038, 0.00036802,\n",
       "       0.00035925, 0.00035753, 0.00035564, 0.00034748, 0.00034342,\n",
       "       0.00034183, 0.00033698, 0.0003318 , 0.00033116, 0.00032563,\n",
       "       0.00032462, 0.00032148, 0.00031856, 0.0003146 , 0.00030996,\n",
       "       0.00030879, 0.00030507, 0.00030466, 0.00030078, 0.00030021,\n",
       "       0.00029804, 0.00029555, 0.00029281, 0.00029183, 0.00028523,\n",
       "       0.00028432, 0.00028426, 0.00027991, 0.00027863, 0.00027658,\n",
       "       0.00027233, 0.00027056, 0.00026893, 0.00026763, 0.00026746,\n",
       "       0.00026618, 0.00026363, 0.00026115])"
      ]
     },
     "execution_count": 21,
     "metadata": {},
     "output_type": "execute_result"
    }
   ],
   "source": [
    "vlad_variance"
   ]
  },
  {
   "cell_type": "code",
   "execution_count": null,
   "metadata": {
    "collapsed": true
   },
   "outputs": [],
   "source": []
  }
 ],
 "metadata": {
  "kernelspec": {
   "display_name": "Python 3",
   "language": "python",
   "name": "python3"
  },
  "language_info": {
   "codemirror_mode": {
    "name": "ipython",
    "version": 3
   },
   "file_extension": ".py",
   "mimetype": "text/x-python",
   "name": "python",
   "nbconvert_exporter": "python",
   "pygments_lexer": "ipython3",
   "version": "3.6.1"
  }
 },
 "nbformat": 4,
 "nbformat_minor": 2
}
