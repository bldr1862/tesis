{
 "cells": [
  {
   "cell_type": "code",
   "execution_count": 1,
   "metadata": {
    "collapsed": true
   },
   "outputs": [],
   "source": [
    "import utils\n",
    "import params\n",
    "\n",
    "import numpy as np\n",
    "from scipy.sparse import vstack\n",
    "from tqdm import tqdm"
   ]
  },
  {
   "cell_type": "code",
   "execution_count": 2,
   "metadata": {},
   "outputs": [],
   "source": [
    "def getIDfromIMG(fichero):\n",
    "    id = int(fichero.split('_')[-1].split('.')[0])\n",
    "    return id"
   ]
  },
  {
   "cell_type": "code",
   "execution_count": 3,
   "metadata": {},
   "outputs": [],
   "source": [
    "def getIDfromTXT(fichero):\n",
    "    id = int(fichero.split('\\\\')[-1].split('.')[0])\n",
    "    return id"
   ]
  },
  {
   "cell_type": "code",
   "execution_count": 42,
   "metadata": {},
   "outputs": [],
   "source": [
    "txt_ficheros = utils.getFiles(params.TFIDF_DESCRIPTORS_VAL_PATH)\n",
    "img_ficheros = utils.getFiles(params.CNN_PCA_DESCRIPTORS_VAL_PATH)"
   ]
  },
  {
   "cell_type": "code",
   "execution_count": 43,
   "metadata": {},
   "outputs": [],
   "source": [
    "txt_dict = dict()\n",
    "for element in txt_ficheros:\n",
    "    txt_dict[getIDfromTXT(element)] = element"
   ]
  },
  {
   "cell_type": "code",
   "execution_count": 44,
   "metadata": {
    "collapsed": true
   },
   "outputs": [],
   "source": [
    "img_dict = dict()\n",
    "for element in img_ficheros:\n",
    "    img_dict[getIDfromIMG(element)] = element"
   ]
  },
  {
   "cell_type": "code",
   "execution_count": 45,
   "metadata": {},
   "outputs": [
    {
     "name": "stderr",
     "output_type": "stream",
     "text": [
      "100%|██████████| 40504/40504 [02:29<00:00, 270.63it/s]\n"
     ]
    }
   ],
   "source": [
    "img_df = []\n",
    "txt_df = []\n",
    "\n",
    "for key in tqdm(txt_dict.keys()):\n",
    "    txt_file, img_file = txt_dict[key], img_dict[key]\n",
    "    txt_array, img_array = utils.loadArray(txt_file).tolist(), utils.loadArray(img_file)\n",
    "\n",
    "    \n",
    "    for i in range(txt_array.shape[0]):\n",
    "        txt_df.append(txt_array[i])\n",
    "        img_df.append(img_array[0])\n",
    "    \n",
    "txt_df = vstack(txt_df)\n",
    "img_df = np.asarray((img_df))"
   ]
  },
  {
   "cell_type": "code",
   "execution_count": 46,
   "metadata": {
    "collapsed": true
   },
   "outputs": [],
   "source": [
    "np.save('TMP/txt_tfidf_cnn_pca.npy', txt_df)\n",
    "np.save('TMP/img_tfidf_cnn_pca.npy', img_df)"
   ]
  },
  {
   "cell_type": "code",
   "execution_count": null,
   "metadata": {
    "collapsed": true
   },
   "outputs": [],
   "source": []
  }
 ],
 "metadata": {
  "kernelspec": {
   "display_name": "Python 3",
   "language": "python",
   "name": "python3"
  },
  "language_info": {
   "codemirror_mode": {
    "name": "ipython",
    "version": 3
   },
   "file_extension": ".py",
   "mimetype": "text/x-python",
   "name": "python",
   "nbconvert_exporter": "python",
   "pygments_lexer": "ipython3",
   "version": "3.6.1"
  }
 },
 "nbformat": 4,
 "nbformat_minor": 2
}
