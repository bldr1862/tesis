{
 "cells": [
  {
   "cell_type": "code",
   "execution_count": 1,
   "metadata": {
    "collapsed": true
   },
   "outputs": [],
   "source": [
    "import utils\n",
    "import params\n",
    "\n",
    "import numpy as np\n",
    "from scipy.sparse import vstack\n",
    "from tqdm import tqdm"
   ]
  },
  {
   "cell_type": "code",
   "execution_count": 2,
   "metadata": {
    "collapsed": true
   },
   "outputs": [],
   "source": [
    "def getIDfromIMG(fichero):\n",
    "    id = int(fichero.split('_')[-1].split('.')[0])\n",
    "    return id"
   ]
  },
  {
   "cell_type": "code",
   "execution_count": 3,
   "metadata": {
    "collapsed": true
   },
   "outputs": [],
   "source": [
    "def getIDfromTXT(fichero):\n",
    "    id = int(fichero.split('\\\\')[-1].split('.')[0])\n",
    "    return id"
   ]
  },
  {
   "cell_type": "code",
   "execution_count": 18,
   "metadata": {},
   "outputs": [],
   "source": [
    "txt_ficheros = utils.getFiles(r'C:\\Users\\bldr1\\Desktop\\TESIS\\DESCRIPTORS\\WORD2VECT_SPANISH\\TRAIN\\\\')\n",
    "img_ficheros = utils.getFiles(params.CNN_PCA_DESCRIPTORS_TRAIN_PATH)"
   ]
  },
  {
   "cell_type": "code",
   "execution_count": 19,
   "metadata": {
    "collapsed": true
   },
   "outputs": [],
   "source": [
    "txt_dict = dict()\n",
    "for element in txt_ficheros:\n",
    "    txt_dict[getIDfromTXT(element)] = element"
   ]
  },
  {
   "cell_type": "code",
   "execution_count": 20,
   "metadata": {
    "collapsed": true
   },
   "outputs": [],
   "source": [
    "img_dict = dict()\n",
    "for element in img_ficheros:\n",
    "    img_dict[getIDfromIMG(element)] = element"
   ]
  },
  {
   "cell_type": "code",
   "execution_count": 22,
   "metadata": {
    "scrolled": true
   },
   "outputs": [
    {
     "name": "stderr",
     "output_type": "stream",
     "text": [
      "100%|██████████| 82783/82783 [05:32<00:00, 248.79it/s]\n"
     ]
    }
   ],
   "source": [
    "img_df = []\n",
    "txt_df = []\n",
    "\n",
    "for key in tqdm(txt_dict.keys()):\n",
    "    txt_file, img_file = txt_dict[key], img_dict[key]\n",
    "    txt_array, img_array = utils.loadArray(txt_file).tolist(), utils.loadArray(img_file)\n",
    "\n",
    "    \n",
    "    #for i in range(txt_array.shape[0]):\n",
    "    for i in range(txt_array.__len__()):\n",
    "        #txt_df.append(txt_array[i])\n",
    "        txt_df.append(np.asarray(txt_array[i]))\n",
    "        img_df.append(img_array[0])\n",
    "    \n",
    "#txt_df = vstack(txt_df)\n",
    "txt_df = np.asarray(txt_df)\n",
    "img_df = np.asarray(img_df)"
   ]
  },
  {
   "cell_type": "code",
   "execution_count": 23,
   "metadata": {},
   "outputs": [
    {
     "data": {
      "text/plain": [
       "(414113, 300)"
      ]
     },
     "execution_count": 23,
     "metadata": {},
     "output_type": "execute_result"
    }
   ],
   "source": [
    "txt_df.shape"
   ]
  },
  {
   "cell_type": "code",
   "execution_count": 24,
   "metadata": {},
   "outputs": [
    {
     "data": {
      "text/plain": [
       "(414113, 128)"
      ]
     },
     "execution_count": 24,
     "metadata": {},
     "output_type": "execute_result"
    }
   ],
   "source": [
    "img_df.shape"
   ]
  },
  {
   "cell_type": "code",
   "execution_count": 25,
   "metadata": {
    "collapsed": true
   },
   "outputs": [],
   "source": [
    "np.save(r'H:\\TESIS\\spanish\\txt_w2v_spanish_cnn_pca.npy', txt_df)\n",
    "np.save(r'H:\\TESIS\\spanish\\img_w2v_spanish_cnn_pca.npy', img_df)"
   ]
  },
  {
   "cell_type": "code",
   "execution_count": 8,
   "metadata": {},
   "outputs": [
    {
     "data": {
      "text/plain": [
       "(414113, 395479)"
      ]
     },
     "execution_count": 8,
     "metadata": {},
     "output_type": "execute_result"
    }
   ],
   "source": [
    "txt_df.shape"
   ]
  },
  {
   "cell_type": "code",
   "execution_count": 9,
   "metadata": {},
   "outputs": [
    {
     "data": {
      "text/plain": [
       "(414113, 128)"
      ]
     },
     "execution_count": 9,
     "metadata": {},
     "output_type": "execute_result"
    }
   ],
   "source": [
    "img_df.shape"
   ]
  },
  {
   "cell_type": "code",
   "execution_count": null,
   "metadata": {
    "collapsed": true
   },
   "outputs": [],
   "source": []
  }
 ],
 "metadata": {
  "kernelspec": {
   "display_name": "Python 3",
   "language": "python",
   "name": "python3"
  },
  "language_info": {
   "codemirror_mode": {
    "name": "ipython",
    "version": 3
   },
   "file_extension": ".py",
   "mimetype": "text/x-python",
   "name": "python",
   "nbconvert_exporter": "python",
   "pygments_lexer": "ipython3",
   "version": "3.6.1"
  }
 },
 "nbformat": 4,
 "nbformat_minor": 2
}
