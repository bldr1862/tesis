{
 "cells": [
  {
   "cell_type": "code",
   "execution_count": 1,
   "metadata": {},
   "outputs": [
    {
     "name": "stderr",
     "output_type": "stream",
     "text": [
      "C:\\Users\\bldr1\\Anaconda3\\lib\\site-packages\\h5py\\__init__.py:34: FutureWarning: Conversion of the second argument of issubdtype from `float` to `np.floating` is deprecated. In future, it will be treated as `np.float64 == np.dtype(float).type`.\n",
      "  from ._conv import register_converters as _register_converters\n",
      "Using TensorFlow backend.\n"
     ]
    }
   ],
   "source": [
    "import utils\n",
    "import params\n",
    "import os\n",
    "from tqdm import tqdm\n",
    "from keras.models import model_from_json"
   ]
  },
  {
   "cell_type": "code",
   "execution_count": 3,
   "metadata": {
    "collapsed": true
   },
   "outputs": [],
   "source": [
    "json_file = open('TMP/model.json', 'r')\n",
    "loaded_model_json = json_file.read()\n",
    "json_file.close()"
   ]
  },
  {
   "cell_type": "code",
   "execution_count": 4,
   "metadata": {},
   "outputs": [
    {
     "name": "stdout",
     "output_type": "stream",
     "text": [
      "Loaded model from disk\n"
     ]
    }
   ],
   "source": [
    "loaded_model = model_from_json(loaded_model_json)\n",
    "loaded_model.load_weights(\"TMP/model_weights_dropout02.h5\")\n",
    "print(\"Loaded model from disk\")"
   ]
  },
  {
   "cell_type": "code",
   "execution_count": null,
   "metadata": {},
   "outputs": [],
   "source": [
    "R_AT_1 = 0\n",
    "R_AT_10 = 0\n",
    "R_AT_50 = 0\n",
    "R_AT_100 = 0\n",
    "TOTAL = 0\n",
    "for id_ in tqdm(stemmed_dict.keys()):\n",
    "    for caption in stemmed_dict[id_]:\n",
    "        descriptor = bigram_model.transform([caption])\n",
    "        descriptor = tf_idf.transform(descriptor)\n",
    "        descriptor = loaded_model.predict(descriptor)\n",
    "        dist, idxs = tree.query(descriptor, k = 100)\n",
    "        selected_images = [order[i] for i in idxs[0]]\n",
    "        selected_ids = []\n",
    "        for path in selected_images:\n",
    "            selected_ids.append(int(os.path.basename(path).split('_')[3].split('.')[0]))\n",
    "\n",
    "        if id_ in selected_ids[:1]:\n",
    "            R_AT_1 = R_AT_1 + 1\n",
    "            R_AT_10 = R_AT_10 + 1\n",
    "            R_AT_50 = R_AT_50 + 1\n",
    "            R_AT_100 = R_AT_100 + 1\n",
    "            \n",
    "        elif id_ in selected_ids[:10]:\n",
    "            R_AT_10 = R_AT_10 + 1\n",
    "            R_AT_50 = R_AT_50 + 1\n",
    "            R_AT_100 = R_AT_100 + 1\n",
    "            \n",
    "        elif id_ in selected_ids[:50]:\n",
    "            R_AT_50 = R_AT_50 + 1\n",
    "            R_AT_100 = R_AT_100 + 1\n",
    "        \n",
    "        elif id_ in selected_ids[:100]:\n",
    "            R_AT_100 = R_AT_100 + 1\n",
    "        \n",
    "        TOTAL = TOTAL +1"
   ]
  },
  {
   "cell_type": "code",
   "execution_count": null,
   "metadata": {},
   "outputs": [],
   "source": [
    "print(R_AT_1,\n",
    "R_AT_10,\n",
    "R_AT_50,\n",
    "R_AT_100,\n",
    "TOTAL )"
   ]
  },
  {
   "cell_type": "code",
   "execution_count": null,
   "metadata": {},
   "outputs": [],
   "source": [
    "3073/14299"
   ]
  },
  {
   "cell_type": "code",
   "execution_count": null,
   "metadata": {
    "collapsed": true
   },
   "outputs": [],
   "source": []
  }
 ],
 "metadata": {
  "kernelspec": {
   "display_name": "Python 3",
   "language": "python",
   "name": "python3"
  },
  "language_info": {
   "codemirror_mode": {
    "name": "ipython",
    "version": 3
   },
   "file_extension": ".py",
   "mimetype": "text/x-python",
   "name": "python",
   "nbconvert_exporter": "python",
   "pygments_lexer": "ipython3",
   "version": "3.6.1"
  }
 },
 "nbformat": 4,
 "nbformat_minor": 2
}
